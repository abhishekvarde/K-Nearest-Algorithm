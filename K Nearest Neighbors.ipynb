{
 "cells": [
  {
   "cell_type": "markdown",
   "metadata": {},
   "source": [
    "# Important Funtions"
   ]
  },
  {
   "cell_type": "code",
   "execution_count": 67,
   "metadata": {},
   "outputs": [],
   "source": [
    "import math\n",
    "def getDistance(obj1, obj2 ):\n",
    "    dist = 0\n",
    "    for x in range(1, 5):\n",
    "        dist += ( obj1[x] - obj2[x] ) ** 2\n",
    "    return math.sqrt(dist)"
   ]
  },
  {
   "cell_type": "code",
   "execution_count": 68,
   "metadata": {},
   "outputs": [],
   "source": [
    "import operator\n",
    "def getNeighbours(trainData, testData, k ):\n",
    "    Distance = []\n",
    "    for x in range(len(trainData)):\n",
    "        dist = getDistance(trainData[x], testData )\n",
    "        Distance.append((trainData[x], dist))\n",
    "    Distance.sort( key = operator.itemgetter(1) )\n",
    "    neighbours = []\n",
    "    for x in range(k):\n",
    "        neighbours.append(Distance[x][0])\n",
    "    return neighbours"
   ]
  },
  {
   "cell_type": "code",
   "execution_count": 69,
   "metadata": {},
   "outputs": [],
   "source": [
    "import operator\n",
    "def getResult(neighbours):\n",
    "    classVote = {}\n",
    "    for x in range(len(neighbours)):\n",
    "        response = neighbours[x][-1]\n",
    "        if response in classVote:\n",
    "            classVote[response] += 1\n",
    "        else:\n",
    "            classVote[response] = 1\n",
    "    sortVote = sorted( classVote.items(),  key = operator.itemgetter(0), reverse = True)\n",
    "    return sortVote"
   ]
  },
  {
   "cell_type": "code",
   "execution_count": 123,
   "metadata": {},
   "outputs": [],
   "source": [
    "def getAccuracy(testSet, predicted):\n",
    "    correct = 0\n",
    "    for x in range(len(testSet)):\n",
    "        if testSet[x][-1] == predicted[x][0][0]:\n",
    "            correct += 1 \n",
    "    return (correct / float(len(testSet))) * 100"
   ]
  },
  {
   "cell_type": "markdown",
   "metadata": {},
   "source": [
    "### Testing Functions"
   ]
  },
  {
   "cell_type": "code",
   "execution_count": 124,
   "metadata": {},
   "outputs": [
    {
     "name": "stdout",
     "output_type": "stream",
     "text": [
      "[('b', 1), ('a', 1)]\n"
     ]
    }
   ],
   "source": [
    "tr = [[1, 2, 3, 5, 6, 'a'], [1, 2, 4, 5, 6, 'b']]\n",
    "te = [1, 2, 3, 4, 5]\n",
    "print(getResult(getNeighbours(tr, te, 2)))"
   ]
  },
  {
   "cell_type": "markdown",
   "metadata": {},
   "source": [
    "## Main Funtion"
   ]
  },
  {
   "cell_type": "code",
   "execution_count": 127,
   "metadata": {},
   "outputs": [
    {
     "name": "stdout",
     "output_type": "stream",
     "text": [
      "> predicted = 'Iris-setosa' actual = 'Iris-setosa'\n",
      "> predicted = 'Iris-setosa' actual = 'Iris-setosa'\n",
      "> predicted = 'Iris-setosa' actual = 'Iris-setosa'\n",
      "> predicted = 'Iris-setosa' actual = 'Iris-setosa'\n",
      "> predicted = 'Iris-setosa' actual = 'Iris-setosa'\n",
      "> predicted = 'Iris-setosa' actual = 'Iris-setosa'\n",
      "> predicted = 'Iris-setosa' actual = 'Iris-setosa'\n",
      "> predicted = 'Iris-setosa' actual = 'Iris-setosa'\n",
      "> predicted = 'Iris-setosa' actual = 'Iris-setosa'\n",
      "> predicted = 'Iris-setosa' actual = 'Iris-setosa'\n",
      "> predicted = 'Iris-setosa' actual = 'Iris-setosa'\n",
      "> predicted = 'Iris-setosa' actual = 'Iris-setosa'\n",
      "> predicted = 'Iris-setosa' actual = 'Iris-setosa'\n",
      "> predicted = 'Iris-setosa' actual = 'Iris-setosa'\n",
      "> predicted = 'Iris-setosa' actual = 'Iris-setosa'\n",
      "> predicted = 'Iris-setosa' actual = 'Iris-setosa'\n",
      "> predicted = 'Iris-setosa' actual = 'Iris-setosa'\n",
      "> predicted = 'Iris-versicolor' actual = 'Iris-versicolor'\n",
      "> predicted = 'Iris-versicolor' actual = 'Iris-versicolor'\n",
      "> predicted = 'Iris-versicolor' actual = 'Iris-versicolor'\n",
      "> predicted = 'Iris-versicolor' actual = 'Iris-versicolor'\n",
      "> predicted = 'Iris-versicolor' actual = 'Iris-versicolor'\n",
      "> predicted = 'Iris-versicolor' actual = 'Iris-versicolor'\n",
      "> predicted = 'Iris-virginica' actual = 'Iris-versicolor'\n",
      "> predicted = 'Iris-versicolor' actual = 'Iris-versicolor'\n",
      "> predicted = 'Iris-versicolor' actual = 'Iris-versicolor'\n",
      "> predicted = 'Iris-versicolor' actual = 'Iris-versicolor'\n",
      "> predicted = 'Iris-versicolor' actual = 'Iris-versicolor'\n",
      "> predicted = 'Iris-versicolor' actual = 'Iris-versicolor'\n",
      "> predicted = 'Iris-versicolor' actual = 'Iris-versicolor'\n",
      "> predicted = 'Iris-versicolor' actual = 'Iris-versicolor'\n",
      "> predicted = 'Iris-virginica' actual = 'Iris-virginica'\n",
      "> predicted = 'Iris-virginica' actual = 'Iris-virginica'\n",
      "> predicted = 'Iris-virginica' actual = 'Iris-virginica'\n",
      "> predicted = 'Iris-versicolor' actual = 'Iris-virginica'\n",
      "> predicted = 'Iris-virginica' actual = 'Iris-virginica'\n",
      "> predicted = 'Iris-virginica' actual = 'Iris-virginica'\n",
      "> predicted = 'Iris-virginica' actual = 'Iris-virginica'\n",
      "> predicted = 'Iris-virginica' actual = 'Iris-virginica'\n",
      "> predicted = 'Iris-virginica' actual = 'Iris-virginica'\n",
      "> predicted = 'Iris-virginica' actual = 'Iris-virginica'\n",
      "> predicted = 'Iris-virginica' actual = 'Iris-virginica'\n",
      "> predicted = 'Iris-virginica' actual = 'Iris-virginica'\n",
      "> predicted = 'Iris-virginica' actual = 'Iris-virginica'\n",
      "> predicted = 'Iris-virginica' actual = 'Iris-virginica'\n",
      "> predicted = 'Iris-virginica' actual = 'Iris-virginica'\n",
      "> predicted = 'Iris-virginica' actual = 'Iris-virginica'\n",
      "> predicted = 'Iris-virginica' actual = 'Iris-virginica'\n",
      "> predicted = 'Iris-virginica' actual = 'Iris-virginica'\n",
      "> predicted = 'Iris-virginica' actual = 'Iris-virginica'\n",
      "> predicted = 'Iris-virginica' actual = 'Iris-virginica'\n",
      "> predicted = 'Iris-virginica' actual = 'Iris-virginica'\n",
      "> predicted = 'Iris-virginica' actual = 'Iris-virginica'\n",
      "> predicted = 'Iris-virginica' actual = 'Iris-virginica'\n",
      "Accuracy = 96.29629629629629\n"
     ]
    }
   ],
   "source": [
    "trainingSet = []\n",
    "testSet = []\n",
    "def main():\n",
    "    import csv\n",
    "    with open('C:\\\\Users\\\\Abhishek Varde\\\\Desktop\\\\Python Learning Stuff\\\\Iris.csv', 'r') as csvfile:\n",
    "        lines = csv.reader(csvfile)\n",
    "        dataset = list(lines)\n",
    "        \n",
    "    import random\n",
    "    split = 0.66\n",
    "    for i in range(1,len(dataset)):\n",
    "        for j in range(1,5):\n",
    "            dataset[i][j] = float(dataset[i][j])\n",
    "        if random.random() < split:\n",
    "            trainingSet.append(dataset[i])\n",
    "        else:\n",
    "            testSet.append(dataset[i])\n",
    " \n",
    "    predictions = []\n",
    "    k = 3\n",
    "    trainingSet\n",
    "    for x in range(len(testSet)):\n",
    "        neighbours = getNeighbours(trainingSet, testSet[x], k)\n",
    "        result = getResult( neighbours)\n",
    "        predictions.append(result)\n",
    "        print('> predicted = ' + repr(result[0][0]) + ' actual = ' + repr(testSet[x][-1]))\n",
    "    acc = getAccuracy(testSet , predictions)\n",
    "    print('Accuracy = ' + repr(acc))\n",
    "main()"
   ]
  }
 ],
 "metadata": {
  "kernelspec": {
   "display_name": "Python 3",
   "language": "python",
   "name": "python3"
  },
  "language_info": {
   "codemirror_mode": {
    "name": "ipython",
    "version": 3
   },
   "file_extension": ".py",
   "mimetype": "text/x-python",
   "name": "python",
   "nbconvert_exporter": "python",
   "pygments_lexer": "ipython3",
   "version": "3.7.3"
  }
 },
 "nbformat": 4,
 "nbformat_minor": 2
}
